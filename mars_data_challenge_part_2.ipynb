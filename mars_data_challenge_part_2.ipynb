{
 "cells": [
  {
   "cell_type": "code",
   "execution_count": 1,
   "id": "2349683d",
   "metadata": {},
   "outputs": [],
   "source": [
    "from splinter import Browser\n",
    "from bs4 import BeautifulSoup as soup\n",
    "import pandas as pd\n",
    "import matplotlib.pyplot as plt\n",
    "from webdriver_manager.chrome import ChromeDriverManager\n",
    "\n",
    "# Set up Splinter\n",
    "executable_path = {'executable_path': ChromeDriverManager().install()}\n",
    "browser = Browser('chrome', **executable_path, headless=False)\n",
    "\n",
    "# Visit the Mars Facts site\n",
    "url = 'https://redplanetscience.com/'\n",
    "browser.visit(url)"
   ]
  },
  {
   "cell_type": "code",
   "execution_count": 2,
   "id": "90bcff39",
   "metadata": {},
   "outputs": [],
   "source": [
    "# Scrape the data in the HTML table\n",
    "# 1 use Pandas's read_html method.\n",
    "# 2 manually scrape the data by using Splinter and Beautiful Soup\n",
    "# First, use DevTools to discover whether the table contains usable classes. \n",
    "# Second, use the Beautiful Soup find_all method to extract all the rows with a line of code. \n",
    "# Third, find and extract the data from each cell in a specified row, and store the data from each row in a Python list. \n",
    "# Fourth, use a for loop to add the data from each row to a list that will contain the data from all the rows"
   ]
  },
  {
   "cell_type": "code",
   "execution_count": 3,
   "id": "b63bb787",
   "metadata": {},
   "outputs": [],
   "source": [
    "# Pandas DataFrame. The columns should have the same headings as the table on the website. Here’s an explanation of the column headings:\n",
    "\n",
    "# The id heading: The identification number of a single transmission from the Curiosity rover.\n",
    "# The terrestrial_date heading: The date on Earth.\n",
    "# The sol heading: The number of elapsed sols (Martian days) since Curiosity landed on Mars.\n",
    "# The ls heading: The solar longitude.\n",
    "# The month heading: The Martian month.\n",
    "# The min_temp heading: The minimum temperature, in Celsius, of a single Martian day (sol).\n",
    "# The pressure heading: The atmospheric pressure at Curiosity's location."
   ]
  },
  {
   "cell_type": "code",
   "execution_count": 4,
   "id": "96ec7b49",
   "metadata": {},
   "outputs": [],
   "source": [
    "# Examine the data types of all the DataFrame columns. If necessary, cast (or convert) the data to the appropriate datetime, int, or float data types."
   ]
  },
  {
   "cell_type": "code",
   "execution_count": 5,
   "id": "f80d541d",
   "metadata": {},
   "outputs": [],
   "source": [
    "# Answer the following question: How many months exist on Mars?"
   ]
  },
  {
   "cell_type": "code",
   "execution_count": 6,
   "id": "fc0a1329",
   "metadata": {},
   "outputs": [],
   "source": [
    "# Answer the following question: How many Martian (and not Earth) days worth of data exist in the scraped dataset?"
   ]
  },
  {
   "cell_type": "code",
   "execution_count": 7,
   "id": "b702b33a",
   "metadata": {},
   "outputs": [],
   "source": [
    "# Answer the following question: What are the coldest and the warmest months on Mars (at the location of Curiosity)? Get the answer by averaging the minimum daily temperature of all the months. Plot the results as a bar chart."
   ]
  },
  {
   "cell_type": "code",
   "execution_count": 8,
   "id": "91bf35f8",
   "metadata": {},
   "outputs": [],
   "source": [
    "# Answer the following question: Which months have the lowest and the highest atmospheric pressure on Mars? Get the answer by averaging the daily atmospheric pressure of all the months. Plot the results as a bar chart."
   ]
  },
  {
   "cell_type": "code",
   "execution_count": 9,
   "id": "f0e6da37",
   "metadata": {},
   "outputs": [],
   "source": [
    "# Answer the following question: About how many terrestrial (Earth) days exist in a Martian year? That is, in the time that Mars circles the Sun once, how many days elapse on Earth? Visually estimate the result by plotting the daily minimum temperature."
   ]
  },
  {
   "cell_type": "code",
   "execution_count": 10,
   "id": "9b14e9de",
   "metadata": {},
   "outputs": [],
   "source": [
    "# Export the DataFrame to a CSV file."
   ]
  },
  {
   "cell_type": "code",
   "execution_count": null,
   "id": "f452d7b0",
   "metadata": {},
   "outputs": [],
   "source": []
  }
 ],
 "metadata": {
  "kernelspec": {
   "display_name": "Python 3 (ipykernel)",
   "language": "python",
   "name": "python3"
  },
  "language_info": {
   "codemirror_mode": {
    "name": "ipython",
    "version": 3
   },
   "file_extension": ".py",
   "mimetype": "text/x-python",
   "name": "python",
   "nbconvert_exporter": "python",
   "pygments_lexer": "ipython3",
   "version": "3.9.12"
  }
 },
 "nbformat": 4,
 "nbformat_minor": 5
}
