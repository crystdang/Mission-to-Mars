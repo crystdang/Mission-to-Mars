{
 "cells": [
  {
   "cell_type": "code",
   "execution_count": 1,
   "id": "ba57f623",
   "metadata": {},
   "outputs": [],
   "source": [
    "from splinter import Browser\n",
    "from bs4 import BeautifulSoup as soup\n",
    "from webdriver_manager.chrome import ChromeDriverManager\n",
    "\n",
    "# Set up Splinter\n",
    "executable_path = {'executable_path': ChromeDriverManager().install()}\n",
    "browser = Browser('chrome', **executable_path, headless=False)\n",
    "\n",
    "# Visit the Mars Facts site\n",
    "url = 'https://redplanetscience.com/'\n",
    "browser.visit(url)"
   ]
  },
  {
   "cell_type": "code",
   "execution_count": 8,
   "id": "f6809c08",
   "metadata": {},
   "outputs": [
    {
     "name": "stdout",
     "output_type": "stream",
     "text": [
      "[{'title': 'MAVEN Maps Electric Currents around Mars that are Fundamental to Atmospheric Loss', 'preview': 'Five years after NASA’s MAVEN spacecraft entered into orbit around Mars, data from the mission has led to the creation of a map of electric current systems in the Martian atmosphere.'}, {'title': 'NASA Updates Mars 2020 Mission Environmental Review', 'preview': 'NASA and the Department of Energy have completed a more detailed risk analysis for the Mars 2020 rover launch from Florida.'}, {'title': \"Q&A with the Student Who Named Ingenuity, NASA's Mars Helicopter\", 'preview': 'As a longtime fan of space exploration, Vaneeza Rupani appreciates the creativity and collaboration involved with trying to fly on another planet.'}, {'title': \"NASA's Briefcase-Size MarCO Satellite Picks Up Honors\", 'preview': 'The twin spacecraft, the first of their kind to fly into deep space, earn a Laureate from Aviation Week & Space Technology.'}, {'title': \"6 Things to Know About NASA's Ingenuity Mars Helicopter\", 'preview': 'The first helicopter attempting to fly on another planet is a marvel of engineering. Get up to speed with these key facts about its plans.'}, {'title': 'NASA Prepares for Moon and Mars With New Addition to Its Deep Space Network', 'preview': 'Robotic spacecraft will be able to communicate with the dish using radio waves and lasers.'}, {'title': \"From JPL's Mailroom to Mars and Beyond\", 'preview': 'Bill Allen has thrived as the mechanical systems design lead for three Mars rover missions, but he got his start as a teenager sorting letters for the NASA center.'}, {'title': \"Curiosity Mars Rover's Summer Road Trip Has Begun\", 'preview': 'After more than a year in the \"clay-bearing unit,\" Curiosity is making a mile-long journey around some deep sand so that it can explore higher up Mount Sharp.'}, {'title': \"Virginia Middle School Student Earns Honor of Naming NASA's Next Mars Rover\", 'preview': 'NASA chose a seventh-grader from Virginia as winner of the agency\\'s \"Name the Rover\" essay contest. Alexander Mather\\'s entry for \"Perseverance\" was voted tops among 28,000 entries. '}, {'title': \"How NASA's Perseverance Mars Team Adjusted to Work in the Time of Coronavirus \", 'preview': 'Like much of the rest of the world, the Mars rover team is pushing forward with its mission-critical work while putting the health and safety of their colleagues and community first.'}, {'title': \"NASA's Mars Helicopter Attached to Mars 2020 Rover \", 'preview': 'The helicopter will be first aircraft to perform flight tests on another planet.'}, {'title': \"8 Martian Postcards to Celebrate Curiosity's Landing Anniversary\", 'preview': 'The NASA rover touched down eight years ago, on Aug. 5, 2012, and will soon be joined by a second rover, Perseverance.'}, {'title': \"NASA's Perseverance Rover Will Peer Beneath Mars' Surface \", 'preview': \"The agency's newest rover will use the first ground-penetrating radar instrument on the Martian surface to help search for signs of past microbial life. \"}, {'title': \"The Detective Aboard NASA's Perseverance Rover\", 'preview': 'An instrument called SHERLOC will, with the help of its partner WATSON, hunt for signs of ancient life by detecting organic molecules and minerals.'}, {'title': 'NASA Invites Students to Name Mars 2020 Rover', 'preview': \"Through Nov. 1, K-12 students in the U.S. are encouraged to enter an essay contest to name NASA's next Mars rover.\"}]\n"
     ]
    }
   ],
   "source": [
    "# store all the dictionaries in a python list\n",
    "article_list = []\n",
    "def get_summary():\n",
    "    html = browser.html\n",
    "    html_soup = soup(html, 'html.parser')\n",
    "    article_div = html_soup.find_all('div', class_=\"list_text\")\n",
    "    for a in article_div:\n",
    "        article_dict = {}\n",
    "        # scrape the title\n",
    "        article_dict['title'] = a.find('div', class_='content_title').text\n",
    "        # ..and preview text, or summary text, of each article on the landing page\n",
    "        article_dict['preview'] = a.find('div', class_='article_teaser_body').text\n",
    "        # Store the scraping results in Python data structures as follows:\n",
    "        # Store each title-and-preview pair in a Python dictionary. And, give each dictionary two keys: title and preview.\n",
    "        article_list.append(article_dict)\n",
    "get_summary()\n",
    "# print the list in your notebook\n",
    "print(article_list)"
   ]
  },
  {
   "cell_type": "code",
   "execution_count": 4,
   "id": "5a3c15bc",
   "metadata": {},
   "outputs": [],
   "source": [
    "# Optionally, store the scraped data in a file or database (to ease sharing the data with others). To do so, export the scraped data to either a JSON file or a MongoDB database."
   ]
  },
  {
   "cell_type": "code",
   "execution_count": 9,
   "id": "c3f5b029",
   "metadata": {},
   "outputs": [],
   "source": [
    "browser.quit()"
   ]
  },
  {
   "cell_type": "code",
   "execution_count": 14,
   "id": "8d5f0420",
   "metadata": {},
   "outputs": [
    {
     "data": {
      "text/plain": [
       "15"
      ]
     },
     "execution_count": 14,
     "metadata": {},
     "output_type": "execute_result"
    }
   ],
   "source": [
    "len(article_list)"
   ]
  },
  {
   "cell_type": "code",
   "execution_count": null,
   "id": "bd79df14",
   "metadata": {},
   "outputs": [],
   "source": []
  }
 ],
 "metadata": {
  "kernelspec": {
   "display_name": "Python 3 (ipykernel)",
   "language": "python",
   "name": "python3"
  },
  "language_info": {
   "codemirror_mode": {
    "name": "ipython",
    "version": 3
   },
   "file_extension": ".py",
   "mimetype": "text/x-python",
   "name": "python",
   "nbconvert_exporter": "python",
   "pygments_lexer": "ipython3",
   "version": "3.9.12"
  }
 },
 "nbformat": 4,
 "nbformat_minor": 5
}
